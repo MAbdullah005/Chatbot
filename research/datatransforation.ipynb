{
 "cells": [
  {
   "cell_type": "code",
   "execution_count": 4,
   "id": "0f66b82a",
   "metadata": {},
   "outputs": [
    {
     "data": {
      "text/plain": [
       "'e:\\\\work\\\\project mlops\\\\Chatbot1\\\\Chatbot\\\\research'"
      ]
     },
     "execution_count": 4,
     "metadata": {},
     "output_type": "execute_result"
    }
   ],
   "source": [
    "pwd"
   ]
  },
  {
   "cell_type": "code",
   "execution_count": 5,
   "id": "aea3e36a",
   "metadata": {},
   "outputs": [],
   "source": [
    "import os\n",
    "os.chdir(\"../\")"
   ]
  },
  {
   "cell_type": "code",
   "execution_count": 7,
   "id": "6f1d512f",
   "metadata": {},
   "outputs": [
    {
     "name": "stdout",
     "output_type": "stream",
     "text": [
      "e:\\work\\project mlops\\Chatbot1\\Chatbot\n"
     ]
    }
   ],
   "source": [
    "cd Chatbot"
   ]
  },
  {
   "cell_type": "code",
   "execution_count": 8,
   "id": "39d56190",
   "metadata": {},
   "outputs": [
    {
     "data": {
      "text/plain": [
       "'e:\\\\work\\\\project mlops\\\\Chatbot1\\\\Chatbot'"
      ]
     },
     "execution_count": 8,
     "metadata": {},
     "output_type": "execute_result"
    }
   ],
   "source": [
    "pwd"
   ]
  },
  {
   "cell_type": "code",
   "execution_count": 9,
   "id": "edc33ad6",
   "metadata": {},
   "outputs": [
    {
     "name": "stdout",
     "output_type": "stream",
     "text": [
      "📁 Columns in dataset: ['input_ids', 'attention_mask', 'labels']\n",
      "📊 First example:\n",
      " Dataset({\n",
      "    features: ['input_ids', 'attention_mask', 'labels'],\n",
      "    num_rows: 50000\n",
      "})\n"
     ]
    },
    {
     "name": "stderr",
     "output_type": "stream",
     "text": [
      "<>:4: SyntaxWarning: invalid escape sequence '\\d'\n",
      "<>:4: SyntaxWarning: invalid escape sequence '\\d'\n",
      "C:\\Users\\Abdullah Ali\\AppData\\Local\\Temp\\ipykernel_1984\\1277931513.py:4: SyntaxWarning: invalid escape sequence '\\d'\n",
      "  dataset = load_from_disk(\"artifacts\\data_transformation/train/tokenized_batch_1\")\n"
     ]
    }
   ],
   "source": [
    "from datasets import load_from_disk\n",
    "\n",
    "# Load any one batch (e.g., tokenized_batch_1)\n",
    "dataset = load_from_disk(\"artifacts\\data_transformation/train/tokenized_batch_1\")\n",
    "\n",
    "print(\"📁 Columns in dataset:\", dataset.column_names)\n",
    "print(\"📊 First example:\\n\", dataset)\n"
   ]
  },
  {
   "cell_type": "code",
   "execution_count": 10,
   "id": "c3ea97bc",
   "metadata": {},
   "outputs": [
    {
     "name": "stdout",
     "output_type": "stream",
     "text": [
      "                                          input_text  \\\n",
      "0  'content': 'how can identity protection servic...   \n",
      "1  'content': \"Beside OFAC's selective sanction t...   \n",
      "2  'content': \"The United States has a number of ...   \n",
      "3  'content': \"are there other types of US sancti...   \n",
      "4  'content': \"Yes, there are several other types...   \n",
      "5  'content': \"please make organized conclusion i...   \n",
      "6  'content': \"* Selective sanctions: targeted at...   \n",
      "7  'content': 'can you please revise the answer a...   \n",
      "8  'content': \"Sure, here is a revised list of th...   \n",
      "9  'content': 'if you see a person name stating t...   \n",
      "\n",
      "                                         target_text  \n",
      "0  'content': \"Identity protection services can h...  \n",
      "1  'content': \"The United States has a number of ...  \n",
      "2  'content': \"are there other types of US sancti...  \n",
      "3  'content': \"Yes, there are several other types...  \n",
      "4  'content': \"please make organized conclusion i...  \n",
      "5  'content': \"* Selective sanctions: targeted at...  \n",
      "6  'content': 'can you please revise the answer a...  \n",
      "7  'content': \"Sure, here is a revised list of th...  \n",
      "8  'content': 'if you see a person name stating t...  \n",
      "9                 'content': '', 'role': 'assistant'  \n",
      "✅ Saved decoded data to decoded_batch_1.csv\n"
     ]
    }
   ],
   "source": [
    "from datasets import load_from_disk\n",
    "import pandas as pd\n",
    "from transformers import AutoTokenizer\n",
    "\n",
    "# ✅ Load tokenizer and dataset\n",
    "tokenizer = AutoTokenizer.from_pretrained(\"t5-small\")\n",
    "dataset = load_from_disk(\"artifacts/data_transformation/train/tokenized_batch_1\")\n",
    "\n",
    "# ✅ Decode token IDs back into text\n",
    "decoded_inputs = [tokenizer.decode(ids, skip_special_tokens=True) for ids in dataset[\"input_ids\"]]\n",
    "decoded_labels = [tokenizer.decode(ids, skip_special_tokens=True) for ids in dataset[\"labels\"]]\n",
    "\n",
    "# ✅ Convert to DataFrame for inspection\n",
    "df = pd.DataFrame({\n",
    "    \"input_text\": decoded_inputs,\n",
    "    \"target_text\": decoded_labels\n",
    "})\n",
    "\n",
    "# ✅ Show sample\n",
    "print(df.head(10))\n",
    "\n",
    "# ✅ Optional: Save for manual viewing\n",
    "df.to_csv(\"decoded_batch_1.csv\", index=False, encoding=\"utf-8\")\n",
    "print(\"✅ Saved decoded data to decoded_batch_1.csv\")\n"
   ]
  },
  {
   "cell_type": "code",
   "execution_count": 11,
   "metadata": {},
   "outputs": [
    {
     "data": {
      "text/html": [
       "<div>\n",
       "<style scoped>\n",
       "    .dataframe tbody tr th:only-of-type {\n",
       "        vertical-align: middle;\n",
       "    }\n",
       "\n",
       "    .dataframe tbody tr th {\n",
       "        vertical-align: top;\n",
       "    }\n",
       "\n",
       "    .dataframe thead th {\n",
       "        text-align: right;\n",
       "    }\n",
       "</style>\n",
       "<table border=\"1\" class=\"dataframe\">\n",
       "  <thead>\n",
       "    <tr style=\"text-align: right;\">\n",
       "      <th></th>\n",
       "      <th>input_text</th>\n",
       "      <th>target_text</th>\n",
       "    </tr>\n",
       "  </thead>\n",
       "  <tbody>\n",
       "    <tr>\n",
       "      <th>0</th>\n",
       "      <td>'content': 'how can identity protection servic...</td>\n",
       "      <td>'content': \"Identity protection services can h...</td>\n",
       "    </tr>\n",
       "    <tr>\n",
       "      <th>1</th>\n",
       "      <td>'content': \"Beside OFAC's selective sanction t...</td>\n",
       "      <td>'content': \"The United States has a number of ...</td>\n",
       "    </tr>\n",
       "    <tr>\n",
       "      <th>2</th>\n",
       "      <td>'content': \"The United States has a number of ...</td>\n",
       "      <td>'content': \"are there other types of US sancti...</td>\n",
       "    </tr>\n",
       "    <tr>\n",
       "      <th>3</th>\n",
       "      <td>'content': \"are there other types of US sancti...</td>\n",
       "      <td>'content': \"Yes, there are several other types...</td>\n",
       "    </tr>\n",
       "    <tr>\n",
       "      <th>4</th>\n",
       "      <td>'content': \"Yes, there are several other types...</td>\n",
       "      <td>'content': \"please make organized conclusion i...</td>\n",
       "    </tr>\n",
       "  </tbody>\n",
       "</table>\n",
       "</div>"
      ],
      "text/plain": [
       "                                          input_text  \\\n",
       "0  'content': 'how can identity protection servic...   \n",
       "1  'content': \"Beside OFAC's selective sanction t...   \n",
       "2  'content': \"The United States has a number of ...   \n",
       "3  'content': \"are there other types of US sancti...   \n",
       "4  'content': \"Yes, there are several other types...   \n",
       "\n",
       "                                         target_text  \n",
       "0  'content': \"Identity protection services can h...  \n",
       "1  'content': \"The United States has a number of ...  \n",
       "2  'content': \"are there other types of US sancti...  \n",
       "3  'content': \"Yes, there are several other types...  \n",
       "4  'content': \"please make organized conclusion i...  "
      ]
     },
     "execution_count": 11,
     "metadata": {},
     "output_type": "execute_result"
    }
   ],
   "source": [
    "df.head()"
   ]
  },
  {
   "cell_type": "code",
   "execution_count": null,
   "metadata": {},
   "outputs": [],
   "source": []
  },
  {
   "cell_type": "code",
   "execution_count": null,
   "id": "360d6ed8",
   "metadata": {},
   "outputs": [],
   "source": []
  }
 ],
 "metadata": {
  "kernelspec": {
   "display_name": "base",
   "language": "python",
   "name": "python3"
  },
  "language_info": {
   "codemirror_mode": {
    "name": "ipython",
    "version": 3
   },
   "file_extension": ".py",
   "mimetype": "text/x-python",
   "name": "python",
   "nbconvert_exporter": "python",
   "pygments_lexer": "ipython3",
   "version": "3.13.5"
  }
 },
 "nbformat": 4,
 "nbformat_minor": 5
}
