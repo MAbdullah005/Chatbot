{
 "cells": [
  {
   "cell_type": "code",
   "execution_count": 1,
   "id": "fcf00267",
   "metadata": {},
   "outputs": [
    {
     "data": {
      "text/plain": [
       "2"
      ]
     },
     "execution_count": 1,
     "metadata": {},
     "output_type": "execute_result"
    }
   ],
   "source": [
    "1+1"
   ]
  },
  {
   "cell_type": "code",
   "execution_count": null,
   "id": "6d3de640",
   "metadata": {},
   "outputs": [],
   "source": [
    "from datasets import load_dataset\n",
    "\n",
    "# Login using e.g. `huggingface-cli login` to access this dataset\n",
    "ds = load_dataset(\"lmsys/lmsys-chat-1m\",split='train')"
   ]
  },
  {
   "cell_type": "code",
   "execution_count": 2,
   "id": "2b6e1552",
   "metadata": {},
   "outputs": [
    {
     "data": {
      "text/plain": [
       "'e:\\\\work\\\\project mlops\\\\Chatbot1\\\\Chatbot\\\\research'"
      ]
     },
     "execution_count": 2,
     "metadata": {},
     "output_type": "execute_result"
    }
   ],
   "source": [
    "pwd"
   ]
  },
  {
   "cell_type": "code",
   "execution_count": 3,
   "id": "6dcb3baa",
   "metadata": {},
   "outputs": [],
   "source": [
    "import os\n",
    "\n",
    "os.chdir('../')"
   ]
  },
  {
   "cell_type": "code",
   "execution_count": 4,
   "id": "d49e3d67",
   "metadata": {},
   "outputs": [
    {
     "name": "stdout",
     "output_type": "stream",
     "text": [
      "                    conversation_id         model  \\\n",
      "0  33f01939a744455c869cb234afca47f1  wizardlm-13b   \n",
      "1  1e230e55efea4edab95db9cb87f6a9cb    vicuna-13b   \n",
      "2  0f623736051f4a48a506fd5933563cfd    vicuna-13b   \n",
      "3  e5c923a7fa3f4893beb432b4a06ef222        palm-2   \n",
      "4  8ad66650dced4b728de1d14bb04657c1    vicuna-13b   \n",
      "\n",
      "                                        conversation  turn language  \\\n",
      "0  [{'content': 'how can identity protection serv...     1  English   \n",
      "1  [{'content': 'Beside OFAC's selective sanction...     6  English   \n",
      "2  [{'content': 'You are the text completion mode...     1  English   \n",
      "3  [{'content': 'The sum of the perimeters of thr...     2  English   \n",
      "4  [{'content': 'What is the type of the variable...     1  English   \n",
      "\n",
      "                                   openai_moderation  redacted  \n",
      "0  [{'categories': {'harassment': False, 'harassm...     False  \n",
      "1  [{'categories': {'harassment': False, 'harassm...     False  \n",
      "2  [{'categories': {'harassment': False, 'harassm...     False  \n",
      "3  [{'categories': {'harassment': False, 'harassm...     False  \n",
      "4  [{'categories': {'harassment': False, 'harassm...     False  \n",
      "Rows: 1000000\n"
     ]
    }
   ],
   "source": [
    "import pandas as pd\n",
    "\n",
    "df = pd.read_parquet(\"artifacts/data_ingestion/train.parquet\")\n",
    "print(df.head())\n",
    "print(\"Rows:\", len(df))\n"
   ]
  },
  {
   "cell_type": "code",
   "execution_count": 11,
   "id": "3ca2af45",
   "metadata": {},
   "outputs": [
    {
     "name": "stdout",
     "output_type": "stream",
     "text": [
      "Dataset({\n",
      "    features: ['conversation_id', 'model', 'conversation', 'turn', 'language', 'openai_moderation', 'redacted'],\n",
      "    num_rows: 1000000\n",
      "})\n",
      "Total samples: 1000000\n",
      "{'conversation_id': '33f01939a744455c869cb234afca47f1', 'model': 'wizardlm-13b', 'conversation': [{'content': 'how can identity protection services help protect me against identity theft', 'role': 'user'}, {'content': \"Identity protection services can help protect you against identity theft in several ways:\\n\\n1. Monitoring: Many identity protection services monitor your credit reports, public records, and other sources for signs of identity theft. If they detect any suspicious activity, they will alert you so you can take action.\\n2. Credit freeze: Some identity protection services can help you freeze your credit, which makes it more difficult for thieves to open new accounts in your name.\\n3. Identity theft insurance: Some identity protection services offer insurance that can help you recover financially if you become a victim of identity theft.\\n4. Assistance: Many identity protection services offer assistance if you become a victim of identity theft. They can help you file a police report, contact credit bureaus, and other steps to help you restore your identity.\\n\\nOverall, identity protection services can provide you with peace of mind and help you take proactive steps to protect your identity. However, it's important to note that no service can completely guarantee that you will never become a victim of identity theft. It's still important to take steps to protect your own identity, such as being cautious with personal information and regularly monitoring your credit reports.\", 'role': 'assistant'}], 'turn': 1, 'language': 'English', 'openai_moderation': [{'categories': {'harassment': False, 'harassment/threatening': False, 'hate': False, 'hate/threatening': False, 'self-harm': False, 'self-harm/instructions': False, 'self-harm/intent': False, 'sexual': False, 'sexual/minors': False, 'violence': False, 'violence/graphic': False}, 'category_scores': {'harassment': 9.212334e-07, 'harassment/threatening': 3.6271535e-07, 'hate': 8.254962e-07, 'hate/threatening': 1.331843e-08, 'self-harm': 1.9257865e-07, 'self-harm/instructions': 6.5028324e-08, 'self-harm/intent': 2.7525962e-07, 'sexual': 2.564017e-06, 'sexual/minors': 4.523274e-07, 'violence': 2.2942773e-05, 'violence/graphic': 1.9713439e-06}, 'flagged': False}, {'categories': {'harassment': False, 'harassment/threatening': False, 'hate': False, 'hate/threatening': False, 'self-harm': False, 'self-harm/instructions': False, 'self-harm/intent': False, 'sexual': False, 'sexual/minors': False, 'violence': False, 'violence/graphic': False}, 'category_scores': {'harassment': 1.5205982e-06, 'harassment/threatening': 1.27367e-07, 'hate': 1.4930811e-07, 'hate/threatening': 2.457626e-09, 'self-harm': 3.2069583e-08, 'self-harm/instructions': 2.7247233e-07, 'self-harm/intent': 2.2881606e-07, 'sexual': 3.3542372e-05, 'sexual/minors': 8.75301e-07, 'violence': 0.00010941078, 'violence/graphic': 6.069021e-06}, 'flagged': False}], 'redacted': False}\n"
     ]
    }
   ],
   "source": [
    "from datasets import load_from_disk\n",
    "\n",
    "dataset_path = \"artifacts/data_ingestion/train\"\n",
    "dataset = load_from_disk(dataset_path)\n",
    "\n",
    "print(dataset)\n",
    "print(\"Total samples:\", len(dataset))\n",
    "print(dataset[0])\n"
   ]
  },
  {
   "cell_type": "code",
   "execution_count": 10,
   "metadata": {},
   "outputs": [
    {
     "name": "stdout",
     "output_type": "stream",
     "text": [
      "['data-00000-of-00006.arrow', 'data-00001-of-00006.arrow', 'data-00002-of-00006.arrow', 'data-00003-of-00006.arrow', 'data-00004-of-00006.arrow', 'data-00005-of-00006.arrow', 'dataset_info.json', 'state.json']\n"
     ]
    }
   ],
   "source": [
    "import os\n",
    "print(os.listdir(\"artifacts/data_ingestion/train\"))\n"
   ]
  }
 ],
 "metadata": {
  "kernelspec": {
   "display_name": "base",
   "language": "python",
   "name": "python3"
  },
  "language_info": {
   "codemirror_mode": {
    "name": "ipython",
    "version": 3
   },
   "file_extension": ".py",
   "mimetype": "text/x-python",
   "name": "python",
   "nbconvert_exporter": "python",
   "pygments_lexer": "ipython3",
   "version": "3.13.5"
  }
 },
 "nbformat": 4,
 "nbformat_minor": 5
}
